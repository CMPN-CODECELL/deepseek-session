{
  "nbformat": 4,
  "nbformat_minor": 0,
  "metadata": {
    "colab": {
      "provenance": [],
      "gpuType": "T4"
    },
    "kernelspec": {
      "name": "python3",
      "display_name": "Python 3"
    },
    "language_info": {
      "name": "python"
    },
    "accelerator": "GPU"
  },
  "cells": [
    {
      "cell_type": "markdown",
      "source": [
        "# DeepSeek Model Exploration\n",
        "\n",
        "## Overview\n",
        "This notebook demonstrates how to load and use DeepSeek-R1-Distill-Qwen-7B with Hugging Face Transformers for inference (basic text generation and query solving). We will prompt the model to give structured answer: with thought process."
      ],
      "metadata": {
        "id": "1ghlq7i-IS7W"
      }
    },
    {
      "cell_type": "markdown",
      "source": [
        "Installing required libraries"
      ],
      "metadata": {
        "id": "7vxN9EyGJjCi"
      }
    },
    {
      "cell_type": "code",
      "execution_count": 1,
      "metadata": {
        "id": "qU12IygRiaqk"
      },
      "outputs": [],
      "source": [
        "!pip -q install transformers torch"
      ]
    },
    {
      "cell_type": "markdown",
      "source": [
        "Defining the model: [`deepseek-ai/DeepSeek-R1-Distill-Qwen-1.5B`](https://huggingface.co/deepseek-ai/DeepSeek-R1-Distill-Qwen-1.5B)"
      ],
      "metadata": {
        "id": "J8S_TjuYJl7_"
      }
    },
    {
      "cell_type": "code",
      "source": [
        "from transformers import AutoTokenizer, AutoModelForCausalLM\n",
        "import torch\n",
        "import os"
      ],
      "metadata": {
        "id": "N5t46_bfigV-"
      },
      "execution_count": 2,
      "outputs": []
    },
    {
      "cell_type": "code",
      "source": [
        "DEVICE = torch.device('cuda')\n",
        "os.environ['OMP_NUM_THREADS'] = '1'\n",
        "os.environ['TOKENIZERS_PARALLELISM'] = 'false'\n",
        "model_name=\"deepseek-ai/DeepSeek-R1-Distill-Qwen-1.5B\""
      ],
      "metadata": {
        "id": "LG3kEklZiw4k"
      },
      "execution_count": 3,
      "outputs": []
    },
    {
      "cell_type": "code",
      "source": [
        "from google.colab import userdata\n",
        "hf_token = userdata.get(\"HF_TOKEN\")"
      ],
      "metadata": {
        "id": "AytAwYR_GedF"
      },
      "execution_count": 4,
      "outputs": []
    },
    {
      "cell_type": "code",
      "source": [
        "model = AutoModelForCausalLM.from_pretrained(model_name,\n",
        "                                             device_map=\"cuda:0\",\n",
        "                                             torch_dtype=torch.bfloat16)"
      ],
      "metadata": {
        "id": "cQetzEA8i0KW"
      },
      "execution_count": 5,
      "outputs": []
    },
    {
      "cell_type": "code",
      "source": [
        "tokenizer = AutoTokenizer.from_pretrained(model_name)"
      ],
      "metadata": {
        "id": "9AAy9YnqeHYw"
      },
      "execution_count": 6,
      "outputs": []
    },
    {
      "cell_type": "code",
      "source": [
        "EOS_TOKEN = tokenizer.eos_token\n",
        "torch.backends.cuda.enable_mem_efficient_sdp(False)\n",
        "torch.backends.cuda.enable_flash_sdp(False)"
      ],
      "metadata": {
        "id": "TaFHgzUHi7Te"
      },
      "execution_count": 11,
      "outputs": []
    },
    {
      "cell_type": "markdown",
      "source": [
        "The `get_response` function takes a user's question, creates a prompt for a language model containing the question and instructions, feeds it to the model to get a response, and then decodes the response back into human-readable text before returning it. Essentially, it acts as a bridge between the user's question and the AI's answer."
      ],
      "metadata": {
        "id": "VmKlGA32ViY5"
      }
    },
    {
      "cell_type": "code",
      "source": [
        "def get_prompt(user_request):\n",
        "    return f\"Your task is to solve user's given problem. Provide the answer in markdown syntax for the following query: {user_request}\""
      ],
      "metadata": {
        "id": "EfmyRyQblY0m"
      },
      "execution_count": 19,
      "outputs": []
    },
    {
      "cell_type": "code",
      "source": [
        "def get_response(prompt):\n",
        "    input_ids = tokenizer(prompt + EOS_TOKEN, return_tensors=\"pt\").to(DEVICE)\n",
        "    output_ids = model.generate(**input_ids, max_length=1024, do_sample=True, top_p=0.9, temperature=0.7)\n",
        "    response_text = tokenizer.decode(output_ids[0], skip_special_tokens=True)\n",
        "    return response_text"
      ],
      "metadata": {
        "id": "vPnlUIgei-Pg"
      },
      "execution_count": 21,
      "outputs": []
    },
    {
      "cell_type": "code",
      "source": [
        "from IPython.display import Markdown"
      ],
      "metadata": {
        "collapsed": true,
        "id": "p6-J0zdeKNSI"
      },
      "execution_count": 16,
      "outputs": []
    },
    {
      "cell_type": "code",
      "source": [
        "prompt = get_prompt(\"Who discovered gravity? What more did this person contribute to?\")\n",
        "Markdown(get_response(prompt))"
      ],
      "metadata": {
        "id": "mSt1jIwmjJEz",
        "colab": {
          "base_uri": "https://localhost:8080/",
          "height": 487
        },
        "outputId": "4932dbb2-8941-40be-8dd6-8b1b9ef0a6e1"
      },
      "execution_count": 22,
      "outputs": [
        {
          "output_type": "stream",
          "name": "stderr",
          "text": [
            "Setting `pad_token_id` to `eos_token_id`:151643 for open-end generation.\n"
          ]
        },
        {
          "output_type": "execute_result",
          "data": {
            "text/plain": [
              "<IPython.core.display.Markdown object>"
            ],
            "text/markdown": "Your task is to solve user's given problem. Provide the answer in markdown syntax for the following query: Who discovered gravity? What more did this person contribute to?<think>\nOkay, so I need to figure out who discovered gravity and what other contributions that person made. Let's start by thinking about what I know about gravity. I remember hearing that Newton was the one who came up with the concept of gravity. Was that right? I think so, but I'm not entirely sure. Maybe I should check that.\n\nI also recall that Newton's law of universal gravitation is the basis for understanding gravity. I think it's something like every particle attracts every other particle with a force proportional to their masses and inversely proportional to the square of the distance between them. That sounds familiar. But I'm not entirely sure if that's the actual person who came up with it or if it's just an expansion on something else.\n\nNow, about who discovered gravity. I think it was Galileo who first started to study the effects of objects falling, which led him to make some early observations about gravity. But I'm not sure if he actually discovered it himself or if it was someone else. Maybe it was Newton after all who provided a more comprehensive explanation.\n\nSo, putting this together, I believe that Newton discovered gravity and formulated the law of universal gravitation. Galileo played a role in early experiments that laid the groundwork for understanding gravity, but the actual discovery and formulation came from Newton.\n\nI should also consider other scientists who might have contributed to the understanding of gravity. For example, Kepler's laws of planetary motion are related to gravity, but they describe the motion of planets rather than gravity itself. Archimedes might have made contributions to buoyancy and related concepts, but those are more about fluids and buoyancy, not gravity directly.\n\nSo, to summarize, the main discoverer of gravity is Sir Isaac Newton, and his contribution was the law of universal gravitation, which describes the force of gravity between masses. Galileo helped in early experiments and observations, but the actual discovery came from Newton.\n\nI think I'm confident enough in this conclusion now. I should double-check to make sure I'm not mixing up Newton's discoveries with others. But from what I remember and what I've studied, it seems correct.\n</think>\n\nThe discovery of gravity is credited to Sir Isaac Newton, who formulated the law of universal gravitation. This law states that every particle attracts every other particle with a force proportional to their masses and inversely proportional to the square of the distance between them. Galileo played a role in early experiments and observations that laid the groundwork for understanding gravity, but the actual discovery and formulation of gravity came from Newton. Newton's contributions included the development of the law of universal gravitation, which is a fundamental concept in physics."
          },
          "metadata": {},
          "execution_count": 22
        }
      ]
    },
    {
      "cell_type": "markdown",
      "source": [
        "DeepSeek-R1 is an advanced AI model designed to solve complex problems by simulating human-like reasoning. It approaches tasks step-by-step, analyzing each part to arrive at a well-thought-out solution.\n",
        "\n",
        "This method allows the model to handle intricate questions in areas like mathematics, coding, and logic. By guiding the model with structured prompts, we can enhance its reasoning process, leading to clearer and more accurate responses."
      ],
      "metadata": {
        "id": "OWQC1o_olCj_"
      }
    },
    {
      "cell_type": "code",
      "source": [
        "def structured_prompt(user_request):\n",
        "    return f\"\"\"\n",
        "    You are an expert problem solver. Your task is to solve the user's problems after careful thinking and reasoning.\n",
        "    Provide the output after thorough thinking in the following format:\n",
        "\n",
        "    <think> Your thought process here </think>\n",
        "    <response> Your response to user's question </response>\n",
        "\n",
        "    If given a math problem, make sure you properly format Latex code.\n",
        "    - Enclose all equations within `$$...$$` for block equations.\n",
        "    - Enclose inline equations within `$...$` for inline equations.\n",
        "\n",
        "    Respect the <think> and <response> tags and provide output in the given format.\n",
        "\n",
        "    Question: {user_request}\n",
        "    \"\"\""
      ],
      "metadata": {
        "id": "GTUyhhT4k_gp"
      },
      "execution_count": 30,
      "outputs": []
    },
    {
      "cell_type": "code",
      "source": [
        "prompt = structured_prompt(\"Solve the integral of e^(-x^2) from negative infinity to positive infinity.\")\n",
        "response = get_response(prompt)"
      ],
      "metadata": {
        "colab": {
          "base_uri": "https://localhost:8080/"
        },
        "id": "McvUj1nXlNF7",
        "outputId": "8b9b9958-fe6e-4e7c-f404-e4506d1664ab"
      },
      "execution_count": 31,
      "outputs": [
        {
          "output_type": "stream",
          "name": "stderr",
          "text": [
            "Setting `pad_token_id` to `eos_token_id`:151643 for open-end generation.\n"
          ]
        }
      ]
    },
    {
      "cell_type": "code",
      "source": [
        "Markdown(response)"
      ],
      "metadata": {
        "colab": {
          "base_uri": "https://localhost:8080/",
          "height": 870
        },
        "id": "3mgKTsI4mpos",
        "outputId": "3d5fce80-bafe-4b51-e730-1829b2c4d1e0"
      },
      "execution_count": 33,
      "outputs": [
        {
          "output_type": "execute_result",
          "data": {
            "text/plain": [
              "<IPython.core.display.Markdown object>"
            ],
            "text/markdown": "\n    You are an expert problem solver. Your task is to solve the user's problems after careful thinking and reasoning.\n    Provide the output after thorough thinking in the following format:\n\n    <think> Your thought process here </think>\n    <response> Your response to user's question </response>\n\n    If given a math problem, make sure you properly format Latex code.\n    - Enclose all equations within `$$...$$` for block equations.\n    - Enclose inline equations within `$...$` for inline equations.\n\n    Respect the <think> and <response> tags and provide output in the given format.\n\n    Question: Solve the integral of e^(-x^2) from negative infinity to positive infinity.\n    \n\n</think>\n\nIt seems you're asking me to solve an integral involving the Gaussian function, which is a common integral in probability and statistics. The integral you're asking about is:\n\n$$\n\\int_{-\\infty}^{\\infty} e^{-x^2} dx\n$$\n\nThis integral is known as the Gaussian integral, and its value is:\n\n$$\n\\sqrt{\\pi}\n$$\n\nHere's a brief explanation of how this integral is evaluated:\n\n1. **Square the Integral**: Let’s denote the integral as \\( I \\):\n\n   $$\n   I = \\int_{-\\infty}^{\\infty} e^{-x^2} dx\n   $$\n\n   Then, consider \\( I^2 \\):\n\n   $$\n   I^2 = \\left( \\int_{-\\infty}^{\\infty} e^{-x^2} dx \\right) \\left( \\int_{-\\infty}^{\\infty} e^{-y^2} dy \\right) = \\int_{-\\infty}^{\\infty} \\int_{-\\infty}^{\\infty} e^{-(x^2 + y^2)} dx dy\n   $$\n\n2. **Switch to Polar Coordinates**: To evaluate this double integral, switch to polar coordinates where \\( x = r \\cos \\theta \\), \\( y = r \\sin \\theta \\), and \\( dx dy = r dr d\\theta \\). The limits of integration become \\( r \\) from 0 to \\( \\infty \\) and \\( \\theta \\) from 0 to \\( 2\\pi \\):\n\n   $$\n   I^2 = \\int_{0}^{2\\pi} \\int_{0}^{\\infty} e^{-r^2} r dr d\\theta\n   $$\n\n3. **Evaluate the Radial Integral**: First, evaluate the integral with respect to \\( r \\):\n\n   $$\n   \\int_{0}^{\\infty} e^{-r^2} r dr = \\frac{1}{2}\n   $$\n\n   This is because \\( \\int_{0}^{\\infty} e^{-t} dt = 1 \\), and substituting \\( t = r^2 \\) gives \\( dt = 2r dr \\).\n\n4. **Evaluate the Angular Integral**: Then, evaluate the integral with respect to \\( \\theta \\):\n\n   $$\n   \\int_{0}^{2\\pi} d\\theta = 2\\pi\n   $$\n\n5. **Combine the Results**: Multiply the results of the radial and angular integrals:\n\n   $$\n   I^2 = \\frac{1}{2} \\times 2\\pi = \\pi\n   $$\n\n6. **Take the Square Root**: Finally, take the square root to find \\( I \\):\n\n   $$\n   I = \\sqrt{\\pi}\n   $$\n\nSo, the value of the integral \\( \\int_{-\\infty}^{\\infty} e^{-x^2} dx \\) is \\( \\sqrt{\\pi} \\).\n\nIf you have a specific integral or problem you'd like to solve, feel free to provide more details!"
          },
          "metadata": {},
          "execution_count": 33
        }
      ]
    },
    {
      "cell_type": "code",
      "source": [
        "user_input = \"\"\"A king has 1,000 bottles of wine, but one of them is poisoned. The poison is deadly but takes exactly 30 days to kill.\n",
        "The king has only 10 prisoners and needs to find the poisoned bottle in 30 days.\n",
        "What is the minimum number of wine tastings required to guarantee finding the poisoned bottle before the 30 days are over?\"\"\""
      ],
      "metadata": {
        "id": "L37qIaRRnP3h"
      },
      "execution_count": 44,
      "outputs": []
    },
    {
      "cell_type": "code",
      "source": [
        "prompt = structured_prompt(user_input)\n",
        "response = get_response(prompt)"
      ],
      "metadata": {
        "colab": {
          "base_uri": "https://localhost:8080/"
        },
        "id": "9cEltxSLnoSK",
        "outputId": "467ef69a-b1bc-4225-e8c4-8256e509c651"
      },
      "execution_count": 45,
      "outputs": [
        {
          "output_type": "stream",
          "name": "stderr",
          "text": [
            "Setting `pad_token_id` to `eos_token_id`:151643 for open-end generation.\n"
          ]
        }
      ]
    },
    {
      "cell_type": "code",
      "source": [
        "Markdown(response)"
      ],
      "metadata": {
        "colab": {
          "base_uri": "https://localhost:8080/",
          "height": 573
        },
        "id": "cEqXPP_5ns0K",
        "outputId": "3316b270-ed5c-41fd-b971-027c26afae08"
      },
      "execution_count": 46,
      "outputs": [
        {
          "output_type": "execute_result",
          "data": {
            "text/plain": [
              "<IPython.core.display.Markdown object>"
            ],
            "text/markdown": "\n    You are an expert problem solver. Your task is to solve the user's problems after careful thinking and reasoning.\n    Provide the output after thorough thinking in the following format:\n\n    <think> Your thought process here </think>\n    <response> Your response to user's question </response>\n\n    If given a math problem, make sure you properly format Latex code.\n    - Enclose all equations within `$$...$$` for block equations.\n    - Enclose inline equations within `$...$` for inline equations.\n\n    Respect the <think> and <response> tags and provide output in the given format.\n\n    Question: A king has 1,000 bottles of wine, but one of them is poisoned. The poison is deadly but takes exactly 30 days to kill. \nThe king has only 10 prisoners and needs to find the poisoned bottle in 30 days.\nWhat is the minimum number of wine tastings required to guarantee finding the poisoned bottle before the 30 days are over?\n    \n\n</think>\n\nTo solve the problem of identifying the poisoned wine bottle among 1,000 bottles using only 10 prisoners within 30 days, we can employ a binary identification system. Here's a step-by-step explanation:\n\n1. **Binary Representation**: Each bottle can be assigned a unique binary identifier using 10 bits (since \\(2^{10} = 1024\\), which is more than 1,000). Each bit represents whether a particular prisoner drinks from that bottle.\n\n2. **Assigning Bottles to Prisoners**: Assign each bottle a unique number from 1 to 1,000. Convert each number into a 10-bit binary representation. Each bit corresponds to a prisoner.\n\n3. **Prisoners and Bottles**: Each prisoner will drink from all bottles where their corresponding bit is 1. For example, if a prisoner's bit is 1, they will drink from every bottle that includes that bit set to 1.\n\n4. **Observing the Results**: After 30 days, observe which prisoners show symptoms of poisoning. The combination of their bits will indicate the unique binary identifier of the poisoned bottle.\n\nThis method ensures that the poisoned bottle can be identified with a minimum of 10 wine tastings, as each bottle requires a unique combination of drinks to be identified.\n\n\\boxed{10}"
          },
          "metadata": {},
          "execution_count": 46
        }
      ]
    }
  ]
}